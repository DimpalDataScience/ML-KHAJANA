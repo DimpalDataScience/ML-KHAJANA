{
 "cells": [
  {
   "cell_type": "code",
   "execution_count": 3,
   "metadata": {},
   "outputs": [],
   "source": [
    "import pandas as pd"
   ]
  },
  {
   "cell_type": "code",
   "execution_count": 4,
   "metadata": {},
   "outputs": [
    {
     "data": {
      "text/html": [
       "<div>\n",
       "<style scoped>\n",
       "    .dataframe tbody tr th:only-of-type {\n",
       "        vertical-align: middle;\n",
       "    }\n",
       "\n",
       "    .dataframe tbody tr th {\n",
       "        vertical-align: top;\n",
       "    }\n",
       "\n",
       "    .dataframe thead th {\n",
       "        text-align: right;\n",
       "    }\n",
       "</style>\n",
       "<table border=\"1\" class=\"dataframe\">\n",
       "  <thead>\n",
       "    <tr style=\"text-align: right;\">\n",
       "      <th></th>\n",
       "      <th>Program</th>\n",
       "      <th>Batch</th>\n",
       "      <th>Enrollment</th>\n",
       "      <th>Student Name</th>\n",
       "      <th>Gender</th>\n",
       "      <th>Campus</th>\n",
       "      <th>10th Class</th>\n",
       "      <th>12th Class</th>\n",
       "      <th>Graduation Degree</th>\n",
       "      <th>Specialization</th>\n",
       "      <th>...</th>\n",
       "      <th>7.When did you start planning for your career?</th>\n",
       "      <th>8.How did you start your search for the career options?</th>\n",
       "      <th>9.Where did you hear about RICS SBE first?</th>\n",
       "      <th>10.Whom did you consult before taking admission in this course?</th>\n",
       "      <th>11.What was the most important reason to choose this course?</th>\n",
       "      <th>12.Which was the deciding moment for you to join RICS SBE?</th>\n",
       "      <th>13.What was the most promising message which attracted you towards RICS SBE?</th>\n",
       "      <th>14.What role did your parents play in choosing RICS SBE?</th>\n",
       "      <th>15.What is your goal after this education?</th>\n",
       "      <th>16.Do you aspire to be MRICS after this education?</th>\n",
       "    </tr>\n",
       "  </thead>\n",
       "  <tbody>\n",
       "    <tr>\n",
       "      <th>0</th>\n",
       "      <td>MBA-RE&amp;UI</td>\n",
       "      <td>2019-2021</td>\n",
       "      <td>A13558919046</td>\n",
       "      <td>Abhishek Dalal</td>\n",
       "      <td>Male</td>\n",
       "      <td>Noida</td>\n",
       "      <td>Moti Lal Nehru Public School, jind, haryana</td>\n",
       "      <td>Moti Lal Nehru Public School, jind, haryana</td>\n",
       "      <td>B.Tech</td>\n",
       "      <td>Civil Engineering</td>\n",
       "      <td>...</td>\n",
       "      <td>During 12th standard</td>\n",
       "      <td>Other</td>\n",
       "      <td>Friend</td>\n",
       "      <td>Other</td>\n",
       "      <td>A job at the end of program</td>\n",
       "      <td>Other</td>\n",
       "      <td>Other</td>\n",
       "      <td>They allowed me to take my own choice and supp...</td>\n",
       "      <td>Pick a job</td>\n",
       "      <td>Yes</td>\n",
       "    </tr>\n",
       "    <tr>\n",
       "      <th>1</th>\n",
       "      <td>MBA-CPM</td>\n",
       "      <td>2019-2021</td>\n",
       "      <td>A13559019054</td>\n",
       "      <td>Anosh Lawrence</td>\n",
       "      <td>Male</td>\n",
       "      <td>Noida</td>\n",
       "      <td>NaN</td>\n",
       "      <td>NaN</td>\n",
       "      <td>NaN</td>\n",
       "      <td>NaN</td>\n",
       "      <td>...</td>\n",
       "      <td>During 12th standard</td>\n",
       "      <td>I started discussing with my friends and relat...</td>\n",
       "      <td>RICS member</td>\n",
       "      <td>Parents/ Relatives</td>\n",
       "      <td>Career growth</td>\n",
       "      <td>After talking to the student counsellors at RI...</td>\n",
       "      <td>Industry led academic institution</td>\n",
       "      <td>They were actively involved in making a career...</td>\n",
       "      <td>Pick a job</td>\n",
       "      <td>Yes</td>\n",
       "    </tr>\n",
       "  </tbody>\n",
       "</table>\n",
       "<p>2 rows × 30 columns</p>\n",
       "</div>"
      ],
      "text/plain": [
       "     Program      Batch    Enrollment    Student Name Gender Campus  \\\n",
       "0  MBA-RE&UI  2019-2021  A13558919046  Abhishek Dalal   Male  Noida   \n",
       "1    MBA-CPM  2019-2021  A13559019054  Anosh Lawrence   Male  Noida   \n",
       "\n",
       "                                    10th Class  \\\n",
       "0  Moti Lal Nehru Public School, jind, haryana   \n",
       "1                                          NaN   \n",
       "\n",
       "                                    12th Class Graduation Degree  \\\n",
       "0  Moti Lal Nehru Public School, jind, haryana            B.Tech   \n",
       "1                                          NaN               NaN   \n",
       "\n",
       "      Specialization  ... 7.When did you start planning for your career?  \\\n",
       "0  Civil Engineering  ...                           During 12th standard   \n",
       "1                NaN  ...                           During 12th standard   \n",
       "\n",
       "  8.How did you start your search for the career options?  \\\n",
       "0                                              Other        \n",
       "1  I started discussing with my friends and relat...        \n",
       "\n",
       "  9.Where did you hear about RICS SBE first?  \\\n",
       "0                                     Friend   \n",
       "1                                RICS member   \n",
       "\n",
       "  10.Whom did you consult before taking admission in this course?  \\\n",
       "0                                              Other                \n",
       "1                                 Parents/ Relatives                \n",
       "\n",
       "  11.What was the most important reason to choose this course?  \\\n",
       "0                        A job at the end of program             \n",
       "1                                      Career growth             \n",
       "\n",
       "  12.Which was the deciding moment for you to join RICS SBE?  \\\n",
       "0                                              Other           \n",
       "1  After talking to the student counsellors at RI...           \n",
       "\n",
       "  13.What was the most promising message which attracted you towards RICS SBE?  \\\n",
       "0                                              Other                             \n",
       "1                  Industry led academic institution                             \n",
       "\n",
       "  14.What role did your parents play in choosing RICS SBE?  \\\n",
       "0  They allowed me to take my own choice and supp...         \n",
       "1  They were actively involved in making a career...         \n",
       "\n",
       "  15.What is your goal after this education?  \\\n",
       "0                                 Pick a job   \n",
       "1                                 Pick a job   \n",
       "\n",
       "  16.Do you aspire to be MRICS after this education?  \n",
       "0                                                Yes  \n",
       "1                                                Yes  \n",
       "\n",
       "[2 rows x 30 columns]"
      ]
     },
     "execution_count": 4,
     "metadata": {},
     "output_type": "execute_result"
    }
   ],
   "source": [
    "df = pd.read_excel(\"F:\\Dataset\\MBA.xlsx\")\n",
    "df.head(2)"
   ]
  },
  {
   "cell_type": "code",
   "execution_count": 5,
   "metadata": {},
   "outputs": [
    {
     "name": "stdout",
     "output_type": "stream",
     "text": [
      "<class 'pandas.core.frame.DataFrame'>\n",
      "RangeIndex: 610 entries, 0 to 609\n",
      "Data columns (total 30 columns):\n",
      "Program                                                                         610 non-null object\n",
      "Batch                                                                           610 non-null object\n",
      "Enrollment                                                                      610 non-null object\n",
      "Student Name                                                                    610 non-null object\n",
      "Gender                                                                          610 non-null object\n",
      "Campus                                                                          610 non-null object\n",
      "10th Class                                                                      604 non-null object\n",
      "12th Class                                                                      598 non-null object\n",
      "Graduation Degree                                                               604 non-null object\n",
      "Specialization                                                                  596 non-null object\n",
      "Top Universities                                                                375 non-null object\n",
      "Other Universities Name                                                         585 non-null object\n",
      "City                                                                            565 non-null object\n",
      "State                                                                           565 non-null object\n",
      "1.How did you get in touch with RICS SBE for the first time?                    610 non-null object\n",
      "2.What is your goal after this education?                                       610 non-null object\n",
      "3.Do you aspire to be MRICS after this education?                               610 non-null object\n",
      "4.Did you avail an education loan for this course?                              610 non-null object\n",
      "5.How many years of work experience do you have?                                610 non-null object\n",
      "6.Do you have a family background in Real Estate/Construction?                  610 non-null object\n",
      "7.When did you start planning for your career?                                  610 non-null object\n",
      "8.How did you start your search for the career options?                         610 non-null object\n",
      "9.Where did you hear about RICS SBE first?                                      610 non-null object\n",
      "10.Whom did you consult before taking admission in this course?                 610 non-null object\n",
      "11.What was the most important reason to choose this course?                    610 non-null object\n",
      "12.Which was the deciding moment for you to join RICS SBE?                      610 non-null object\n",
      "13.What was the most promising message which attracted you towards RICS SBE?    610 non-null object\n",
      "14.What role did your parents play in choosing RICS SBE?                        610 non-null object\n",
      "15.What is your goal after this education?                                      610 non-null object\n",
      "16.Do you aspire to be MRICS after this education?                              610 non-null object\n",
      "dtypes: object(30)\n",
      "memory usage: 143.0+ KB\n"
     ]
    }
   ],
   "source": [
    "df.info()"
   ]
  },
  {
   "cell_type": "code",
   "execution_count": 49,
   "metadata": {},
   "outputs": [
    {
     "data": {
      "text/html": [
       "<div>\n",
       "<style scoped>\n",
       "    .dataframe tbody tr th:only-of-type {\n",
       "        vertical-align: middle;\n",
       "    }\n",
       "\n",
       "    .dataframe tbody tr th {\n",
       "        vertical-align: top;\n",
       "    }\n",
       "\n",
       "    .dataframe thead th {\n",
       "        text-align: right;\n",
       "    }\n",
       "</style>\n",
       "<table border=\"1\" class=\"dataframe\">\n",
       "  <thead>\n",
       "    <tr style=\"text-align: right;\">\n",
       "      <th></th>\n",
       "      <th>Program</th>\n",
       "      <th>Gender</th>\n",
       "      <th>Graduation Degree</th>\n",
       "      <th>City</th>\n",
       "      <th>State</th>\n",
       "    </tr>\n",
       "  </thead>\n",
       "  <tbody>\n",
       "    <tr>\n",
       "      <th>0</th>\n",
       "      <td>MBA-RE&amp;UI</td>\n",
       "      <td>Male</td>\n",
       "      <td>B.Tech</td>\n",
       "      <td>New Delhi</td>\n",
       "      <td>Delhi</td>\n",
       "    </tr>\n",
       "    <tr>\n",
       "      <th>1</th>\n",
       "      <td>MBA-CPM</td>\n",
       "      <td>Male</td>\n",
       "      <td>NaN</td>\n",
       "      <td>Noida</td>\n",
       "      <td>Uttar Pradesh</td>\n",
       "    </tr>\n",
       "  </tbody>\n",
       "</table>\n",
       "</div>"
      ],
      "text/plain": [
       "     Program Gender Graduation Degree       City          State\n",
       "0  MBA-RE&UI   Male            B.Tech  New Delhi          Delhi\n",
       "1    MBA-CPM   Male               NaN      Noida  Uttar Pradesh"
      ]
     },
     "execution_count": 49,
     "metadata": {},
     "output_type": "execute_result"
    }
   ],
   "source": [
    "df1 = df[['Program','Gender','Graduation Degree','City','State']]\n",
    "df1.head(2)"
   ]
  },
  {
   "cell_type": "code",
   "execution_count": 7,
   "metadata": {
    "scrolled": true
   },
   "outputs": [
    {
     "name": "stdout",
     "output_type": "stream",
     "text": [
      "<class 'pandas.core.frame.DataFrame'>\n",
      "RangeIndex: 610 entries, 0 to 609\n",
      "Data columns (total 5 columns):\n",
      "Program              610 non-null object\n",
      "Gender               610 non-null object\n",
      "Graduation Degree    604 non-null object\n",
      "City                 565 non-null object\n",
      "State                565 non-null object\n",
      "dtypes: object(5)\n",
      "memory usage: 23.9+ KB\n"
     ]
    }
   ],
   "source": [
    "df1.info()"
   ]
  },
  {
   "cell_type": "markdown",
   "metadata": {},
   "source": [
    "# Male and female ratio in MBA program"
   ]
  },
  {
   "cell_type": "code",
   "execution_count": 50,
   "metadata": {
    "scrolled": true
   },
   "outputs": [
    {
     "data": {
      "image/png": "[encoded data removed]",
      "text/plain": [
       "<Figure size 432x288 with 1 Axes>"
      ]
     },
     "metadata": {
      "needs_background": "light"
     },
     "output_type": "display_data"
    }
   ],
   "source": [
    "df1.groupby(['Gender'])['Program'].count().plot(kind='bar');"
   ]
  },
  {
   "cell_type": "code",
   "execution_count": 9,
   "metadata": {},
   "outputs": [],
   "source": [
    "df2 = df1.dropna()"
   ]
  },
  {
   "cell_type": "code",
   "execution_count": 10,
   "metadata": {},
   "outputs": [
    {
     "data": {
      "text/html": [
       "<div>\n",
       "<style scoped>\n",
       "    .dataframe tbody tr th:only-of-type {\n",
       "        vertical-align: middle;\n",
       "    }\n",
       "\n",
       "    .dataframe tbody tr th {\n",
       "        vertical-align: top;\n",
       "    }\n",
       "\n",
       "    .dataframe thead th {\n",
       "        text-align: right;\n",
       "    }\n",
       "</style>\n",
       "<table border=\"1\" class=\"dataframe\">\n",
       "  <thead>\n",
       "    <tr style=\"text-align: right;\">\n",
       "      <th></th>\n",
       "      <th>Program</th>\n",
       "      <th>Gender</th>\n",
       "      <th>Graduation Degree</th>\n",
       "      <th>City</th>\n",
       "      <th>State</th>\n",
       "    </tr>\n",
       "  </thead>\n",
       "  <tbody>\n",
       "    <tr>\n",
       "      <th>0</th>\n",
       "      <td>MBA-RE&amp;UI</td>\n",
       "      <td>Male</td>\n",
       "      <td>B.Tech</td>\n",
       "      <td>New Delhi</td>\n",
       "      <td>Delhi</td>\n",
       "    </tr>\n",
       "    <tr>\n",
       "      <th>2</th>\n",
       "      <td>MBA-CE&amp;QS</td>\n",
       "      <td>Male</td>\n",
       "      <td>B.E.</td>\n",
       "      <td>Erode</td>\n",
       "      <td>Tamil Nadu</td>\n",
       "    </tr>\n",
       "  </tbody>\n",
       "</table>\n",
       "</div>"
      ],
      "text/plain": [
       "     Program Gender Graduation Degree       City       State\n",
       "0  MBA-RE&UI   Male            B.Tech  New Delhi       Delhi\n",
       "2  MBA-CE&QS   Male              B.E.      Erode  Tamil Nadu"
      ]
     },
     "execution_count": 10,
     "metadata": {},
     "output_type": "execute_result"
    }
   ],
   "source": [
    "df2.head(2)"
   ]
  },
  {
   "cell_type": "markdown",
   "metadata": {},
   "source": [
    "# No. of student took MBA state-wise "
   ]
  },
  {
   "cell_type": "code",
   "execution_count": 11,
   "metadata": {
    "scrolled": true
   },
   "outputs": [
    {
     "data": {
      "image/png": "[encoded data removed]",
      "text/plain": [
       "<Figure size 720x288 with 1 Axes>"
      ]
     },
     "metadata": {
      "needs_background": "light"
     },
     "output_type": "display_data"
    }
   ],
   "source": [
    "df2.groupby(['State'])['Gender'].count().plot(kind='bar',figsize=(10,4),title=\"No. of candidate - Statewise\");"
   ]
  },
  {
   "cell_type": "markdown",
   "metadata": {},
   "source": [
    "# Graduation degree, who took MBA program"
   ]
  },
  {
   "cell_type": "code",
   "execution_count": 12,
   "metadata": {},
   "outputs": [
    {
     "data": {
      "image/png": "[encoded data removed]",
      "text/plain": [
       "<Figure size 576x288 with 1 Axes>"
      ]
     },
     "metadata": {
      "needs_background": "light"
     },
     "output_type": "display_data"
    }
   ],
   "source": [
    "df2.groupby(['Graduation Degree'])['Gender'].count().plot(kind='bar',figsize=(8,4), title=\"Graduation Degree\");"
   ]
  },
  {
   "cell_type": "markdown",
   "metadata": {},
   "source": [
    "# No. of candidates who opted the different MBA program  "
   ]
  },
  {
   "cell_type": "code",
   "execution_count": 13,
   "metadata": {
    "scrolled": true
   },
   "outputs": [
    {
     "data": {
      "image/png": "[encoded data removed]",
      "text/plain": [
       "<Figure size 432x288 with 1 Axes>"
      ]
     },
     "metadata": {
      "needs_background": "light"
     },
     "output_type": "display_data"
    }
   ],
   "source": [
    "df2.groupby(['Program'])['Gender'].count().plot(kind='bar', title=\"Program Name\");"
   ]
  },
  {
   "cell_type": "markdown",
   "metadata": {},
   "source": [
    "# No.of candidates who took MBA program from different cities"
   ]
  },
  {
   "cell_type": "code",
   "execution_count": 14,
   "metadata": {},
   "outputs": [
    {
     "data": {
      "image/png": "[encoded data removed]",
      "text/plain": [
       "<Figure size 720x1440 with 1 Axes>"
      ]
     },
     "metadata": {
      "needs_background": "light"
     },
     "output_type": "display_data"
    }
   ],
   "source": [
    "df2.groupby(['City'])['Gender'].count().plot(kind='barh',figsize=(10,20), title=\"City wise candidate\");"
   ]
  },
  {
   "cell_type": "code",
   "execution_count": 15,
   "metadata": {},
   "outputs": [
    {
     "data": {
      "text/html": [
       "<div>\n",
       "<style scoped>\n",
       "    .dataframe tbody tr th:only-of-type {\n",
       "        vertical-align: middle;\n",
       "    }\n",
       "\n",
       "    .dataframe tbody tr th {\n",
       "        vertical-align: top;\n",
       "    }\n",
       "\n",
       "    .dataframe thead th {\n",
       "        text-align: right;\n",
       "    }\n",
       "</style>\n",
       "<table border=\"1\" class=\"dataframe\">\n",
       "  <thead>\n",
       "    <tr style=\"text-align: right;\">\n",
       "      <th></th>\n",
       "      <th>Program</th>\n",
       "      <th>Gender</th>\n",
       "      <th>Graduation Degree</th>\n",
       "      <th>City</th>\n",
       "      <th>State</th>\n",
       "    </tr>\n",
       "  </thead>\n",
       "  <tbody>\n",
       "    <tr>\n",
       "      <th>0</th>\n",
       "      <td>MBA-RE&amp;UI</td>\n",
       "      <td>Male</td>\n",
       "      <td>B.Tech</td>\n",
       "      <td>New Delhi</td>\n",
       "      <td>Delhi</td>\n",
       "    </tr>\n",
       "    <tr>\n",
       "      <th>2</th>\n",
       "      <td>MBA-CE&amp;QS</td>\n",
       "      <td>Male</td>\n",
       "      <td>B.E.</td>\n",
       "      <td>Erode</td>\n",
       "      <td>Tamil Nadu</td>\n",
       "    </tr>\n",
       "  </tbody>\n",
       "</table>\n",
       "</div>"
      ],
      "text/plain": [
       "     Program Gender Graduation Degree       City       State\n",
       "0  MBA-RE&UI   Male            B.Tech  New Delhi       Delhi\n",
       "2  MBA-CE&QS   Male              B.E.      Erode  Tamil Nadu"
      ]
     },
     "execution_count": 15,
     "metadata": {},
     "output_type": "execute_result"
    }
   ],
   "source": [
    "df2.head(2)"
   ]
  },
  {
   "cell_type": "code",
   "execution_count": 51,
   "metadata": {
    "scrolled": true
   },
   "outputs": [
    {
     "data": {
      "text/plain": [
       "<matplotlib.axes._subplots.AxesSubplot at 0x2bc4b30bc18>"
      ]
     },
     "execution_count": 51,
     "metadata": {},
     "output_type": "execute_result"
    },
    {
     "data": {
      "image/png": "[encoded data removed]",
      "text/plain": [
       "<Figure size 432x288 with 1 Axes>"
      ]
     },
     "metadata": {
      "needs_background": "light"
     },
     "output_type": "display_data"
    }
   ],
   "source": [
    "df2['Graduation Degree'].value_counts().plot(kind='bar')"
   ]
  },
  {
   "cell_type": "markdown",
   "metadata": {},
   "source": [
    "# Prediction of the candidate for opting MBA program"
   ]
  },
  {
   "cell_type": "code",
   "execution_count": 17,
   "metadata": {},
   "outputs": [
    {
     "name": "stderr",
     "output_type": "stream",
     "text": [
      "F:\\ANACONDA\\lib\\site-packages\\ipykernel_launcher.py:1: SettingWithCopyWarning: \n",
      "A value is trying to be set on a copy of a slice from a DataFrame.\n",
      "Try using .loc[row_indexer,col_indexer] = value instead\n",
      "\n",
      "See the caveats in the documentation: http://pandas.pydata.org/pandas-docs/stable/indexing.html#indexing-view-versus-copy\n",
      "  \"\"\"Entry point for launching an IPython kernel.\n"
     ]
    }
   ],
   "source": [
    "df2['gr_num'] = df2['Graduation Degree'].map({'B.Tech':1,'B.E.':2,'B.Arch':3,'Bachelor of Civil Engineering':4,'BBA':5,'B.Com':6,'BSc.':7,'Other':8,'Bachelor of Mechanical Engineering':9})"
   ]
  },
  {
   "cell_type": "code",
   "execution_count": 18,
   "metadata": {},
   "outputs": [
    {
     "data": {
      "text/html": [
       "<div>\n",
       "<style scoped>\n",
       "    .dataframe tbody tr th:only-of-type {\n",
       "        vertical-align: middle;\n",
       "    }\n",
       "\n",
       "    .dataframe tbody tr th {\n",
       "        vertical-align: top;\n",
       "    }\n",
       "\n",
       "    .dataframe thead th {\n",
       "        text-align: right;\n",
       "    }\n",
       "</style>\n",
       "<table border=\"1\" class=\"dataframe\">\n",
       "  <thead>\n",
       "    <tr style=\"text-align: right;\">\n",
       "      <th></th>\n",
       "      <th>Program</th>\n",
       "      <th>Gender</th>\n",
       "      <th>Graduation Degree</th>\n",
       "      <th>City</th>\n",
       "      <th>State</th>\n",
       "      <th>gr_num</th>\n",
       "    </tr>\n",
       "  </thead>\n",
       "  <tbody>\n",
       "    <tr>\n",
       "      <th>0</th>\n",
       "      <td>MBA-RE&amp;UI</td>\n",
       "      <td>Male</td>\n",
       "      <td>B.Tech</td>\n",
       "      <td>New Delhi</td>\n",
       "      <td>Delhi</td>\n",
       "      <td>1</td>\n",
       "    </tr>\n",
       "    <tr>\n",
       "      <th>2</th>\n",
       "      <td>MBA-CE&amp;QS</td>\n",
       "      <td>Male</td>\n",
       "      <td>B.E.</td>\n",
       "      <td>Erode</td>\n",
       "      <td>Tamil Nadu</td>\n",
       "      <td>2</td>\n",
       "    </tr>\n",
       "    <tr>\n",
       "      <th>3</th>\n",
       "      <td>MBA-CE&amp;QS</td>\n",
       "      <td>Male</td>\n",
       "      <td>B.Tech</td>\n",
       "      <td>Visakhapatnam</td>\n",
       "      <td>Andhra Pradesh</td>\n",
       "      <td>1</td>\n",
       "    </tr>\n",
       "    <tr>\n",
       "      <th>4</th>\n",
       "      <td>MBA-CPM</td>\n",
       "      <td>Male</td>\n",
       "      <td>B.E.</td>\n",
       "      <td>Anantnag</td>\n",
       "      <td>Jammu and Kashmir</td>\n",
       "      <td>2</td>\n",
       "    </tr>\n",
       "    <tr>\n",
       "      <th>5</th>\n",
       "      <td>MBA-CPM</td>\n",
       "      <td>Male</td>\n",
       "      <td>B.Tech</td>\n",
       "      <td>Noida</td>\n",
       "      <td>Uttar Pradesh</td>\n",
       "      <td>1</td>\n",
       "    </tr>\n",
       "  </tbody>\n",
       "</table>\n",
       "</div>"
      ],
      "text/plain": [
       "     Program Gender Graduation Degree           City              State  \\\n",
       "0  MBA-RE&UI   Male            B.Tech      New Delhi              Delhi   \n",
       "2  MBA-CE&QS   Male              B.E.          Erode         Tamil Nadu   \n",
       "3  MBA-CE&QS   Male            B.Tech  Visakhapatnam     Andhra Pradesh   \n",
       "4    MBA-CPM   Male              B.E.       Anantnag  Jammu and Kashmir   \n",
       "5    MBA-CPM   Male            B.Tech          Noida      Uttar Pradesh   \n",
       "\n",
       "   gr_num  \n",
       "0       1  \n",
       "2       2  \n",
       "3       1  \n",
       "4       2  \n",
       "5       1  "
      ]
     },
     "execution_count": 18,
     "metadata": {},
     "output_type": "execute_result"
    }
   ],
   "source": [
    "df2.head()"
   ]
  },
  {
   "cell_type": "code",
   "execution_count": 19,
   "metadata": {},
   "outputs": [
    {
     "name": "stderr",
     "output_type": "stream",
     "text": [
      "F:\\ANACONDA\\lib\\site-packages\\ipykernel_launcher.py:1: SettingWithCopyWarning: \n",
      "A value is trying to be set on a copy of a slice from a DataFrame.\n",
      "Try using .loc[row_indexer,col_indexer] = value instead\n",
      "\n",
      "See the caveats in the documentation: http://pandas.pydata.org/pandas-docs/stable/indexing.html#indexing-view-versus-copy\n",
      "  \"\"\"Entry point for launching an IPython kernel.\n"
     ]
    }
   ],
   "source": [
    "df2['gender'] = df2['Gender'].map({'Male':1,'Female':2})"
   ]
  },
  {
   "cell_type": "code",
   "execution_count": 20,
   "metadata": {},
   "outputs": [
    {
     "data": {
      "text/html": [
       "<div>\n",
       "<style scoped>\n",
       "    .dataframe tbody tr th:only-of-type {\n",
       "        vertical-align: middle;\n",
       "    }\n",
       "\n",
       "    .dataframe tbody tr th {\n",
       "        vertical-align: top;\n",
       "    }\n",
       "\n",
       "    .dataframe thead th {\n",
       "        text-align: right;\n",
       "    }\n",
       "</style>\n",
       "<table border=\"1\" class=\"dataframe\">\n",
       "  <thead>\n",
       "    <tr style=\"text-align: right;\">\n",
       "      <th></th>\n",
       "      <th>Program</th>\n",
       "      <th>Gender</th>\n",
       "      <th>Graduation Degree</th>\n",
       "      <th>City</th>\n",
       "      <th>State</th>\n",
       "      <th>gr_num</th>\n",
       "      <th>gender</th>\n",
       "    </tr>\n",
       "  </thead>\n",
       "  <tbody>\n",
       "    <tr>\n",
       "      <th>0</th>\n",
       "      <td>MBA-RE&amp;UI</td>\n",
       "      <td>Male</td>\n",
       "      <td>B.Tech</td>\n",
       "      <td>New Delhi</td>\n",
       "      <td>Delhi</td>\n",
       "      <td>1</td>\n",
       "      <td>1</td>\n",
       "    </tr>\n",
       "    <tr>\n",
       "      <th>2</th>\n",
       "      <td>MBA-CE&amp;QS</td>\n",
       "      <td>Male</td>\n",
       "      <td>B.E.</td>\n",
       "      <td>Erode</td>\n",
       "      <td>Tamil Nadu</td>\n",
       "      <td>2</td>\n",
       "      <td>1</td>\n",
       "    </tr>\n",
       "    <tr>\n",
       "      <th>3</th>\n",
       "      <td>MBA-CE&amp;QS</td>\n",
       "      <td>Male</td>\n",
       "      <td>B.Tech</td>\n",
       "      <td>Visakhapatnam</td>\n",
       "      <td>Andhra Pradesh</td>\n",
       "      <td>1</td>\n",
       "      <td>1</td>\n",
       "    </tr>\n",
       "    <tr>\n",
       "      <th>4</th>\n",
       "      <td>MBA-CPM</td>\n",
       "      <td>Male</td>\n",
       "      <td>B.E.</td>\n",
       "      <td>Anantnag</td>\n",
       "      <td>Jammu and Kashmir</td>\n",
       "      <td>2</td>\n",
       "      <td>1</td>\n",
       "    </tr>\n",
       "    <tr>\n",
       "      <th>5</th>\n",
       "      <td>MBA-CPM</td>\n",
       "      <td>Male</td>\n",
       "      <td>B.Tech</td>\n",
       "      <td>Noida</td>\n",
       "      <td>Uttar Pradesh</td>\n",
       "      <td>1</td>\n",
       "      <td>1</td>\n",
       "    </tr>\n",
       "  </tbody>\n",
       "</table>\n",
       "</div>"
      ],
      "text/plain": [
       "     Program Gender Graduation Degree           City              State  \\\n",
       "0  MBA-RE&UI   Male            B.Tech      New Delhi              Delhi   \n",
       "2  MBA-CE&QS   Male              B.E.          Erode         Tamil Nadu   \n",
       "3  MBA-CE&QS   Male            B.Tech  Visakhapatnam     Andhra Pradesh   \n",
       "4    MBA-CPM   Male              B.E.       Anantnag  Jammu and Kashmir   \n",
       "5    MBA-CPM   Male            B.Tech          Noida      Uttar Pradesh   \n",
       "\n",
       "   gr_num  gender  \n",
       "0       1       1  \n",
       "2       2       1  \n",
       "3       1       1  \n",
       "4       2       1  \n",
       "5       1       1  "
      ]
     },
     "execution_count": 20,
     "metadata": {},
     "output_type": "execute_result"
    }
   ],
   "source": [
    "df2.head()"
   ]
  },
  {
   "cell_type": "code",
   "execution_count": 21,
   "metadata": {},
   "outputs": [],
   "source": [
    "from sklearn.svm import SVC "
   ]
  },
  {
   "cell_type": "code",
   "execution_count": 22,
   "metadata": {},
   "outputs": [],
   "source": [
    "dfi = df2[['gr_num','gender']]"
   ]
  },
  {
   "cell_type": "code",
   "execution_count": 23,
   "metadata": {},
   "outputs": [],
   "source": [
    "dfo = df2['Program']"
   ]
  },
  {
   "cell_type": "code",
   "execution_count": 24,
   "metadata": {},
   "outputs": [
    {
     "data": {
      "text/plain": [
       "0.7066189624329159"
      ]
     },
     "execution_count": 24,
     "metadata": {},
     "output_type": "execute_result"
    }
   ],
   "source": [
    "svc_r = SVC(kernel='rbf',C=50)\n",
    "svc_r.fit(dfi,dfo)\n",
    "svc_r.score(dfi,dfo)"
   ]
  },
  {
   "cell_type": "code",
   "execution_count": 25,
   "metadata": {},
   "outputs": [],
   "source": [
    "from sklearn.linear_model import LogisticRegression"
   ]
  },
  {
   "cell_type": "code",
   "execution_count": 26,
   "metadata": {},
   "outputs": [
    {
     "data": {
      "text/plain": [
       "0.7048300536672629"
      ]
     },
     "execution_count": 26,
     "metadata": {},
     "output_type": "execute_result"
    }
   ],
   "source": [
    "lr = LogisticRegression()\n",
    "lr.fit(dfi,dfo)\n",
    "lr.score(dfi,dfo)"
   ]
  },
  {
   "cell_type": "code",
   "execution_count": 27,
   "metadata": {},
   "outputs": [
    {
     "data": {
      "text/plain": [
       "array(['MBA-CPM'], dtype=object)"
      ]
     },
     "execution_count": 27,
     "metadata": {},
     "output_type": "execute_result"
    }
   ],
   "source": [
    "lr.predict([[1,1]])"
   ]
  },
  {
   "cell_type": "code",
   "execution_count": 28,
   "metadata": {},
   "outputs": [
    {
     "data": {
      "text/plain": [
       "array(['MBA-CPM'], dtype=object)"
      ]
     },
     "execution_count": 28,
     "metadata": {},
     "output_type": "execute_result"
    }
   ],
   "source": [
    "svc_r.predict([[1,1]])"
   ]
  },
  {
   "cell_type": "code",
   "execution_count": 29,
   "metadata": {},
   "outputs": [],
   "source": [
    "def getprogram (graduation,gender):\n",
    "    pr={'B.Tech':1,'B.E.':2,'B.Arch':3,'Bachelor of Civil Engineering':4,'BBA':5,'B.Com':6,'BSc.':7,'Other':8,'Bachelor of Mechanical Engineering':9}\n",
    "    gr={'Male':1,'Female':2}\n",
    "    pre = svc_r.predict([[pr[graduation],gr[gender]]])\n",
    "    print(\"Student will Opt for :\",pre)"
   ]
  },
  {
   "cell_type": "code",
   "execution_count": 31,
   "metadata": {},
   "outputs": [
    {
     "name": "stdout",
     "output_type": "stream",
     "text": [
      "Student will Opt for : ['MBA-CPM']\n"
     ]
    }
   ],
   "source": [
    "getprogram('B.E.','Female')"
   ]
  },
  {
   "cell_type": "code",
   "execution_count": 47,
   "metadata": {},
   "outputs": [],
   "source": [
    "from ipywidgets import interact"
   ]
  },
  {
   "cell_type": "code",
   "execution_count": 48,
   "metadata": {},
   "outputs": [
    {
     "name": "stdout",
     "output_type": "stream",
     "text": [
      "Student will Opt for : ['MBA-CPM']\n"
     ]
    },
    {
     "data": {
      "text/plain": [
       "<function __main__.getprogram(graduation, gender)>"
      ]
     },
     "execution_count": 48,
     "metadata": {},
     "output_type": "execute_result"
    }
   ],
   "source": [
    "interact (getprogram, graduation=['B.Tech','B.E.','B.Arch','Bachelor of Civil Engineering','BBA','B.Com','BSc.','Other','Bachelor of Mechanical Engineering'],gender=['Male','Female'])"
   ]
  },
  {
   "cell_type": "code",
   "execution_count": 35,
   "metadata": {},
   "outputs": [],
   "source": [
    "df3 = df[['Gender','State','4.Did you avail an education loan for this course?']]"
   ]
  },
  {
   "cell_type": "code",
   "execution_count": 36,
   "metadata": {},
   "outputs": [
    {
     "data": {
      "text/html": [
       "<div>\n",
       "<style scoped>\n",
       "    .dataframe tbody tr th:only-of-type {\n",
       "        vertical-align: middle;\n",
       "    }\n",
       "\n",
       "    .dataframe tbody tr th {\n",
       "        vertical-align: top;\n",
       "    }\n",
       "\n",
       "    .dataframe thead th {\n",
       "        text-align: right;\n",
       "    }\n",
       "</style>\n",
       "<table border=\"1\" class=\"dataframe\">\n",
       "  <thead>\n",
       "    <tr style=\"text-align: right;\">\n",
       "      <th></th>\n",
       "      <th>Gender</th>\n",
       "      <th>State</th>\n",
       "      <th>4.Did you avail an education loan for this course?</th>\n",
       "    </tr>\n",
       "  </thead>\n",
       "  <tbody>\n",
       "    <tr>\n",
       "      <th>0</th>\n",
       "      <td>Male</td>\n",
       "      <td>Delhi</td>\n",
       "      <td>Yes</td>\n",
       "    </tr>\n",
       "    <tr>\n",
       "      <th>1</th>\n",
       "      <td>Male</td>\n",
       "      <td>Uttar Pradesh</td>\n",
       "      <td>Yes</td>\n",
       "    </tr>\n",
       "  </tbody>\n",
       "</table>\n",
       "</div>"
      ],
      "text/plain": [
       "  Gender          State 4.Did you avail an education loan for this course?\n",
       "0   Male          Delhi                                                Yes\n",
       "1   Male  Uttar Pradesh                                                Yes"
      ]
     },
     "execution_count": 36,
     "metadata": {},
     "output_type": "execute_result"
    }
   ],
   "source": [
    "df3.head(2)"
   ]
  },
  {
   "cell_type": "code",
   "execution_count": 37,
   "metadata": {},
   "outputs": [],
   "source": [
    "df3.columns = ['Gender','State','Loan']"
   ]
  },
  {
   "cell_type": "code",
   "execution_count": 38,
   "metadata": {},
   "outputs": [
    {
     "data": {
      "text/html": [
       "<div>\n",
       "<style scoped>\n",
       "    .dataframe tbody tr th:only-of-type {\n",
       "        vertical-align: middle;\n",
       "    }\n",
       "\n",
       "    .dataframe tbody tr th {\n",
       "        vertical-align: top;\n",
       "    }\n",
       "\n",
       "    .dataframe thead th {\n",
       "        text-align: right;\n",
       "    }\n",
       "</style>\n",
       "<table border=\"1\" class=\"dataframe\">\n",
       "  <thead>\n",
       "    <tr style=\"text-align: right;\">\n",
       "      <th></th>\n",
       "      <th>Gender</th>\n",
       "      <th>State</th>\n",
       "      <th>Loan</th>\n",
       "    </tr>\n",
       "  </thead>\n",
       "  <tbody>\n",
       "    <tr>\n",
       "      <th>0</th>\n",
       "      <td>Male</td>\n",
       "      <td>Delhi</td>\n",
       "      <td>Yes</td>\n",
       "    </tr>\n",
       "    <tr>\n",
       "      <th>1</th>\n",
       "      <td>Male</td>\n",
       "      <td>Uttar Pradesh</td>\n",
       "      <td>Yes</td>\n",
       "    </tr>\n",
       "  </tbody>\n",
       "</table>\n",
       "</div>"
      ],
      "text/plain": [
       "  Gender          State Loan\n",
       "0   Male          Delhi  Yes\n",
       "1   Male  Uttar Pradesh  Yes"
      ]
     },
     "execution_count": 38,
     "metadata": {},
     "output_type": "execute_result"
    }
   ],
   "source": [
    "df3.head(2)"
   ]
  },
  {
   "cell_type": "markdown",
   "metadata": {},
   "source": [
    "# How many candidate opted for Loan in MBA program"
   ]
  },
  {
   "cell_type": "code",
   "execution_count": 40,
   "metadata": {},
   "outputs": [],
   "source": [
    "df_loan = df3[['Gender','Loan']]"
   ]
  },
  {
   "cell_type": "code",
   "execution_count": 41,
   "metadata": {},
   "outputs": [
    {
     "data": {
      "image/png": "[encoded data removed]",
      "text/plain": [
       "<Figure size 720x288 with 1 Axes>"
      ]
     },
     "metadata": {
      "needs_background": "light"
     },
     "output_type": "display_data"
    }
   ],
   "source": [
    "df_loan.groupby(['Gender'])['Loan'].value_counts().plot(kind='bar',title=\"Education Loan\", color='green', figsize=(10,4));"
   ]
  },
  {
   "cell_type": "code",
   "execution_count": 42,
   "metadata": {},
   "outputs": [],
   "source": [
    "df_state = df3[['State','Loan']]"
   ]
  },
  {
   "cell_type": "code",
   "execution_count": 44,
   "metadata": {},
   "outputs": [],
   "source": [
    "df_loan_state = df_state.dropna()"
   ]
  },
  {
   "cell_type": "markdown",
   "metadata": {},
   "source": [
    "# Candidate opted for Loan state wise"
   ]
  },
  {
   "cell_type": "code",
   "execution_count": 52,
   "metadata": {},
   "outputs": [
    {
     "data": {
      "image/png": "[encoded data removed]",
      "text/plain": [
       "<Figure size 432x720 with 1 Axes>"
      ]
     },
     "metadata": {
      "needs_background": "light"
     },
     "output_type": "display_data"
    }
   ],
   "source": [
    "df_loan_state.groupby(['State'])['Loan'].value_counts().plot(kind='barh',figsize=(6,10));"
   ]
  },
  {
   "cell_type": "code",
   "execution_count": null,
   "metadata": {},
   "outputs": [],
   "source": []
  }
 ],
 "metadata": {
  "kernelspec": {
   "display_name": "Python 3",
   "language": "python",
   "name": "python3"
  },
  "language_info": {
   "codemirror_mode": {
    "name": "ipython",
    "version": 3
   },
   "file_extension": ".py",
   "mimetype": "text/x-python",
   "name": "python",
   "nbconvert_exporter": "python",
   "pygments_lexer": "ipython3",
   "version": "3.7.3"
  }
 },
 "nbformat": 4,
 "nbformat_minor": 2
}
