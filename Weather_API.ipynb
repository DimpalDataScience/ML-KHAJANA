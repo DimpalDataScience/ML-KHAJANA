{
 "cells": [
  {
   "cell_type": "code",
   "execution_count": 2,
   "metadata": {},
   "outputs": [],
   "source": [
    "import requests as re"
   ]
  },
  {
   "cell_type": "code",
   "execution_count": 16,
   "metadata": {},
   "outputs": [
    {
     "data": {
      "text/plain": [
       "{'coord': {'lon': 77.22, 'lat': 28.65},\n",
       " 'weather': [{'id': 711,\n",
       "   'main': 'Smoke',\n",
       "   'description': 'smoke',\n",
       "   'icon': '50d'}],\n",
       " 'base': 'stations',\n",
       " 'main': {'temp': 292.82,\n",
       "  'pressure': 1020,\n",
       "  'humidity': 60,\n",
       "  'temp_min': 292.59,\n",
       "  'temp_max': 293.15},\n",
       " 'visibility': 800,\n",
       " 'wind': {'speed': 0.99, 'deg': 101},\n",
       " 'clouds': {'all': 0},\n",
       " 'dt': 1575702500,\n",
       " 'sys': {'type': 1,\n",
       "  'id': 9165,\n",
       "  'country': 'IN',\n",
       "  'sunrise': 1575682244,\n",
       "  'sunset': 1575719655},\n",
       " 'timezone': 19800,\n",
       " 'id': 1273294,\n",
       " 'name': 'Delhi',\n",
       " 'cod': 200}"
      ]
     },
     "execution_count": 16,
     "metadata": {},
     "output_type": "execute_result"
    }
   ],
   "source": [
    "response = re.get(\"https://api.openweathermap.org/data/2.5/weather?q=Delhi,india&appid=dacc97fdf9fe9f3f6ce1422d8ba67a1c\").json()\n",
    "response"
   ]
  },
  {
   "cell_type": "code",
   "execution_count": 17,
   "metadata": {},
   "outputs": [
    {
     "data": {
      "text/plain": [
       "60"
      ]
     },
     "execution_count": 17,
     "metadata": {},
     "output_type": "execute_result"
    }
   ],
   "source": [
    "response['main']['humidity']"
   ]
  },
  {
   "cell_type": "code",
   "execution_count": 18,
   "metadata": {},
   "outputs": [
    {
     "data": {
      "text/plain": [
       "800"
      ]
     },
     "execution_count": 18,
     "metadata": {},
     "output_type": "execute_result"
    }
   ],
   "source": [
    "response['visibility']"
   ]
  },
  {
   "cell_type": "code",
   "execution_count": 33,
   "metadata": {},
   "outputs": [
    {
     "name": "stdout",
     "output_type": "stream",
     "text": [
      "Enter the city and countryNoida,india\n"
     ]
    },
    {
     "data": {
      "text/plain": [
       "{'coord': {'lon': 77.35, 'lat': 28.57},\n",
       " 'weather': [{'id': 711,\n",
       "   'main': 'Smoke',\n",
       "   'description': 'smoke',\n",
       "   'icon': '50d'}],\n",
       " 'base': 'stations',\n",
       " 'main': {'temp': 296.15,\n",
       "  'pressure': 1018,\n",
       "  'humidity': 46,\n",
       "  'temp_min': 296.15,\n",
       "  'temp_max': 296.15},\n",
       " 'visibility': 1000,\n",
       " 'wind': {'speed': 2.6, 'deg': 310},\n",
       " 'clouds': {'all': 0},\n",
       " 'dt': 1575709426,\n",
       " 'sys': {'type': 1,\n",
       "  'id': 9165,\n",
       "  'country': 'IN',\n",
       "  'sunrise': 1575682203,\n",
       "  'sunset': 1575719634},\n",
       " 'timezone': 19800,\n",
       " 'id': 7279746,\n",
       " 'name': 'Noida',\n",
       " 'cod': 200}"
      ]
     },
     "execution_count": 33,
     "metadata": {},
     "output_type": "execute_result"
    }
   ],
   "source": [
    "api_key=\"dacc97fdf9fe9f3f6ce1422d8ba67a1c\"\n",
    "city = input(\"Enter the city and country\")\n",
    "res = re.get(\"https://api.openweathermap.org/data/2.5/weather?q=\"+city+\"&appid=\"+api_key+\"\").json()\n",
    "res"
   ]
  },
  {
   "cell_type": "code",
   "execution_count": 34,
   "metadata": {},
   "outputs": [
    {
     "name": "stdout",
     "output_type": "stream",
     "text": [
      "City:- Noida\n",
      "Min Temp-: 296.15\n",
      "Max Temp-: 296.15\n",
      "Pressure-: 1018\n",
      "Humidity-: 46\n",
      "Weather-: smoke\n"
     ]
    }
   ],
   "source": [
    "print(\"City:-\", res['name'])\n",
    "print(\"Min Temp-:\",res['main']['temp_min'])\n",
    "print(\"Max Temp-:\",res['main']['temp_max'])\n",
    "print(\"Pressure-:\",res['main']['pressure'])\n",
    "print(\"Humidity-:\",res['main']['humidity'])\n",
    "print(\"Weather-:\",res['weather'][0]['description'])"
   ]
  },
  {
   "cell_type": "code",
   "execution_count": null,
   "metadata": {},
   "outputs": [],
   "source": []
  }
 ],
 "metadata": {
  "kernelspec": {
   "display_name": "Python 3",
   "language": "python",
   "name": "python3"
  },
  "language_info": {
   "codemirror_mode": {
    "name": "ipython",
    "version": 3
   },
   "file_extension": ".py",
   "mimetype": "text/x-python",
   "name": "python",
   "nbconvert_exporter": "python",
   "pygments_lexer": "ipython3",
   "version": "3.7.3"
  }
 },
 "nbformat": 4,
 "nbformat_minor": 2
}
