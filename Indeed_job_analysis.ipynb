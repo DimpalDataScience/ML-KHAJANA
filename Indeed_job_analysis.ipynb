{
 "cells": [
  {
   "cell_type": "code",
   "execution_count": 2,
   "metadata": {},
   "outputs": [],
   "source": [
    "import requests\n",
    "from bs4 import BeautifulSoup\n",
    "import pandas as pd"
   ]
  },
  {
   "cell_type": "code",
   "execution_count": 27,
   "metadata": {},
   "outputs": [
    {
     "name": "stdout",
     "output_type": "stream",
     "text": [
      "these many results:  (16, 6)\n",
      "these many results:  (32, 6)\n",
      "these many results:  (48, 6)\n",
      "these many results:  (64, 6)\n",
      "these many results:  (80, 6)\n",
      "these many results:  (96, 6)\n",
      "these many results:  (112, 6)\n",
      "these many results:  (128, 6)\n",
      "these many results:  (144, 6)\n",
      "these many results:  (160, 6)\n",
      "these many results:  (176, 6)\n",
      "these many results:  (192, 6)\n",
      "these many results:  (207, 6)\n",
      "these many results:  (222, 6)\n",
      "these many results:  (237, 6)\n",
      "these many results:  (252, 6)\n",
      "these many results:  (267, 6)\n",
      "these many results:  (283, 6)\n",
      "these many results:  (298, 6)\n",
      "these many results:  (314, 6)\n",
      "these many results:  (330, 6)\n",
      "these many results:  (345, 6)\n",
      "these many results:  (361, 6)\n",
      "these many results:  (377, 6)\n",
      "these many results:  (391, 6)\n",
      "these many results:  (405, 6)\n",
      "these many results:  (419, 6)\n",
      "these many results:  (433, 6)\n",
      "these many results:  (447, 6)\n",
      "these many results:  (461, 6)\n",
      "these many results:  (475, 6)\n",
      "these many results:  (489, 6)\n",
      "these many results:  (503, 6)\n",
      "these many results:  (517, 6)\n",
      "these many results:  (531, 6)\n",
      "these many results:  (547, 6)\n",
      "these many results:  (561, 6)\n",
      "these many results:  (575, 6)\n",
      "these many results:  (589, 6)\n",
      "these many results:  (603, 6)\n",
      "these many results:  (619, 6)\n",
      "these many results:  (635, 6)\n",
      "these many results:  (651, 6)\n",
      "these many results:  (667, 6)\n",
      "these many results:  (683, 6)\n",
      "these many results:  (699, 6)\n",
      "these many results:  (715, 6)\n",
      "these many results:  (731, 6)\n",
      "these many results:  (747, 6)\n",
      "these many results:  (763, 6)\n"
     ]
    }
   ],
   "source": [
    "\n",
    "df = pd.DataFrame(columns=[\"Title\",\"Location\",\"Company\",\"Salary\",\"Sponsored\",\"Summary\"])\n",
    "# send a get request to this URL; get the contents and parse it using BS4\n",
    "for start in range (0,500,10):# results from 500 pages.\n",
    "    URL = \"https://www.indeed.co.in/jobs?q=data+science&l=India&start=\"+str(start)\n",
    "\n",
    "    response = requests.get(URL)\n",
    "    soup = BeautifulSoup(response.content, 'html.parser')\n",
    "\n",
    "\n",
    "\n",
    "    all_job = soup.find_all(\"div\", attrs={'class':'result'})\n",
    "    # got title,location, company, salary, sponsored from the \"class\" of HTML text.\n",
    "    for job in all_job:\n",
    "        try:\n",
    "            title = job.find(\"div\", class_=\"title\").text.strip()\n",
    "        except:\n",
    "            title = 'None'\n",
    "        try:\n",
    "            location = job.find(\"div\", class_=\"location\").text.strip()\n",
    "\n",
    "        except:\n",
    "            location = 'None'\n",
    "        try:\n",
    "            company = job.find(class_=\"company\").text.strip()\n",
    "\n",
    "        except:\n",
    "            company = 'None'\n",
    "\n",
    "        try:\n",
    "            salary = job.find(class_=\"salary\").text.strip()\n",
    "\n",
    "        except:\n",
    "            salary = 'None'\n",
    "\n",
    "        try:\n",
    "            sponsored = job.find(class_=\"sponsoredGray\").text.strip()\n",
    "\n",
    "        except:\n",
    "            sponsored = 'None'\n",
    "\n",
    "\n",
    "        df = df.append({\"Title\":title,\"Location\":location, \"Company\":company,\"Salary\":salary,\"Sponsored\":sponsored}, ignore_index=True)\n",
    "\n",
    "    print(\"these many results: \", df.shape)\n",
    "\n",
    "df.to_csv(\"Datascience.csv\", index = False)\n",
    "    # save the file\n",
    "\n",
    "\n",
    "\n"
   ]
  },
  {
   "cell_type": "code",
   "execution_count": 28,
   "metadata": {},
   "outputs": [],
   "source": [
    "import pandas as pd"
   ]
  },
  {
   "cell_type": "code",
   "execution_count": 29,
   "metadata": {},
   "outputs": [
    {
     "data": {
      "text/html": [
       "<div>\n",
       "<style scoped>\n",
       "    .dataframe tbody tr th:only-of-type {\n",
       "        vertical-align: middle;\n",
       "    }\n",
       "\n",
       "    .dataframe tbody tr th {\n",
       "        vertical-align: top;\n",
       "    }\n",
       "\n",
       "    .dataframe thead th {\n",
       "        text-align: right;\n",
       "    }\n",
       "</style>\n",
       "<table border=\"1\" class=\"dataframe\">\n",
       "  <thead>\n",
       "    <tr style=\"text-align: right;\">\n",
       "      <th></th>\n",
       "      <th>Title</th>\n",
       "      <th>Location</th>\n",
       "      <th>Company</th>\n",
       "      <th>Salary</th>\n",
       "      <th>Sponsored</th>\n",
       "      <th>Summary</th>\n",
       "    </tr>\n",
       "  </thead>\n",
       "  <tbody>\n",
       "    <tr>\n",
       "      <th>0</th>\n",
       "      <td>Data Science modelers</td>\n",
       "      <td>Bengaluru, Karnataka</td>\n",
       "      <td>Infosys</td>\n",
       "      <td>None</td>\n",
       "      <td>Hot Job</td>\n",
       "      <td>NaN</td>\n",
       "    </tr>\n",
       "    <tr>\n",
       "      <th>1</th>\n",
       "      <td>Analyst, Investment Performance (SQL/Tableau/D...</td>\n",
       "      <td>Gurgaon, Haryana</td>\n",
       "      <td>BlackRock</td>\n",
       "      <td>None</td>\n",
       "      <td>Hot Job</td>\n",
       "      <td>NaN</td>\n",
       "    </tr>\n",
       "    <tr>\n",
       "      <th>2</th>\n",
       "      <td>Data Scientist</td>\n",
       "      <td>Bengaluru, Karnataka</td>\n",
       "      <td>Micro Focus</td>\n",
       "      <td>None</td>\n",
       "      <td>Hot Job</td>\n",
       "      <td>NaN</td>\n",
       "    </tr>\n",
       "    <tr>\n",
       "      <th>3</th>\n",
       "      <td>Production Operations Systems, Associate</td>\n",
       "      <td>Gurgaon, Haryana</td>\n",
       "      <td>BlackRock</td>\n",
       "      <td>None</td>\n",
       "      <td>Hot Job</td>\n",
       "      <td>NaN</td>\n",
       "    </tr>\n",
       "    <tr>\n",
       "      <th>4</th>\n",
       "      <td>Data Science/ Machine Learning &amp; AI Trainer</td>\n",
       "      <td>None</td>\n",
       "      <td>Digital Acharya</td>\n",
       "      <td>₹5,00,000 a year</td>\n",
       "      <td>None</td>\n",
       "      <td>NaN</td>\n",
       "    </tr>\n",
       "  </tbody>\n",
       "</table>\n",
       "</div>"
      ],
      "text/plain": [
       "                                               Title              Location  \\\n",
       "0                              Data Science modelers  Bengaluru, Karnataka   \n",
       "1  Analyst, Investment Performance (SQL/Tableau/D...      Gurgaon, Haryana   \n",
       "2                                     Data Scientist  Bengaluru, Karnataka   \n",
       "3           Production Operations Systems, Associate      Gurgaon, Haryana   \n",
       "4        Data Science/ Machine Learning & AI Trainer                  None   \n",
       "\n",
       "           Company            Salary Sponsored  Summary  \n",
       "0          Infosys              None   Hot Job      NaN  \n",
       "1        BlackRock              None   Hot Job      NaN  \n",
       "2      Micro Focus              None   Hot Job      NaN  \n",
       "3        BlackRock              None   Hot Job      NaN  \n",
       "4  Digital Acharya  ₹5,00,000 a year      None      NaN  "
      ]
     },
     "execution_count": 29,
     "metadata": {},
     "output_type": "execute_result"
    }
   ],
   "source": [
    "df = pd.read_csv(\"C:\\\\Users\\\\Dimpalbabu\\\\Datascience.csv\")\n",
    "df.head()"
   ]
  },
  {
   "cell_type": "code",
   "execution_count": 30,
   "metadata": {},
   "outputs": [
    {
     "data": {
      "text/plain": [
       "(763, 6)"
      ]
     },
     "execution_count": 30,
     "metadata": {},
     "output_type": "execute_result"
    }
   ],
   "source": [
    "df.shape"
   ]
  },
  {
   "cell_type": "code",
   "execution_count": 53,
   "metadata": {},
   "outputs": [
    {
     "data": {
      "image/png": "[encoded data removed]",
      "text/plain": [
       "<Figure size 1440x360 with 1 Axes>"
      ]
     },
     "metadata": {
      "needs_background": "light"
     },
     "output_type": "display_data"
    }
   ],
   "source": [
    "counts = df.groupby(\"Company\").count()[\"Title\"].sort_values(ascending = False)[:20]\n",
    "counts.plot(\"bar\",color = 'green', figsize=(20,5));"
   ]
  },
  {
   "cell_type": "code",
   "execution_count": null,
   "metadata": {},
   "outputs": [],
   "source": []
  }
 ],
 "metadata": {
  "kernelspec": {
   "display_name": "Python 3",
   "language": "python",
   "name": "python3"
  },
  "language_info": {
   "codemirror_mode": {
    "name": "ipython",
    "version": 3
   },
   "file_extension": ".py",
   "mimetype": "text/x-python",
   "name": "python",
   "nbconvert_exporter": "python",
   "pygments_lexer": "ipython3",
   "version": "3.7.3"
  }
 },
 "nbformat": 4,
 "nbformat_minor": 2
}
